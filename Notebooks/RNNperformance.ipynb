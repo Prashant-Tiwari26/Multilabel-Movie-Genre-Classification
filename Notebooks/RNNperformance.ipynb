{
 "cells": [
  {
   "cell_type": "code",
   "execution_count": 1,
   "metadata": {},
   "outputs": [],
   "source": [
    "import warnings\n",
    "warnings.filterwarnings(\"ignore\")"
   ]
  },
  {
   "cell_type": "code",
   "execution_count": 2,
   "metadata": {},
   "outputs": [],
   "source": [
    "import sys\n",
    "sys.path.append(\"../\")\n",
    "from utils.models import GRUBaseGloVe\n",
    "from utils.evaluate import evaluate_rnn_performance\n",
    "from utils.nlp import get_word_to_index\n",
    "\n",
    "import torch\n",
    "import numpy as np"
   ]
  },
  {
   "cell_type": "code",
   "execution_count": 3,
   "metadata": {},
   "outputs": [],
   "source": [
    "xtest = np.load(\"../Data/Testing/x_test.npy\", allow_pickle=True)\n",
    "ytest = np.load(\"../Data/Testing/y_test.npy\", allow_pickle=True)"
   ]
  },
  {
   "cell_type": "code",
   "execution_count": 4,
   "metadata": {},
   "outputs": [
    {
     "name": "stdout",
     "output_type": "stream",
     "text": [
      "Number of Parameters: 131.97M\n"
     ]
    }
   ],
   "source": [
    "model = GRUBaseGloVe(embed_dim=300, embeddings='6B', hidden_dim=512)\n",
    "model.load_state_dict(torch.load(\"../Models/GRU3300512.pth\"))\n",
    "wti_300 = get_word_to_index('.vector_cache/glove.6B.300d.txt')"
   ]
  },
  {
   "cell_type": "code",
   "execution_count": 5,
   "metadata": {},
   "outputs": [
    {
     "name": "stdout",
     "output_type": "stream",
     "text": [
      "              precision    recall  f1-score   support\n",
      "\n",
      "           0       0.33      0.05      0.08        22\n",
      "           1       0.54      0.43      0.48       251\n",
      "           2       0.56      0.49      0.52       163\n",
      "           3       0.00      0.00      0.00        22\n",
      "           4       0.52      0.39      0.44       158\n",
      "           5       0.70      0.69      0.69       693\n",
      "           6       0.56      0.63      0.59       148\n",
      "           7       0.36      0.25      0.30        52\n",
      "           8       0.29      0.09      0.13        46\n",
      "           9       0.26      0.13      0.17        77\n",
      "          10       0.54      0.57      0.56       352\n",
      "          11       0.61      0.66      0.64       502\n",
      "          12       0.53      0.54      0.54       212\n",
      "          13       0.27      0.17      0.21       125\n",
      "          14       0.55      0.51      0.53       304\n",
      "          15       0.48      0.41      0.44       145\n",
      "          16       0.54      0.46      0.50       168\n",
      "          17       0.45      0.42      0.44       223\n",
      "\n",
      "   micro avg       0.56      0.52      0.54      3663\n",
      "   macro avg       0.45      0.38      0.40      3663\n",
      "weighted avg       0.55      0.52      0.53      3663\n",
      " samples avg       0.60      0.56      0.54      3663\n",
      "\n",
      "Accuracy: 10.88%\n"
     ]
    }
   ],
   "source": [
    "evaluate_rnn_performance(xtest, ytest, wti_300, model)"
   ]
  },
  {
   "cell_type": "code",
   "execution_count": 6,
   "metadata": {},
   "outputs": [
    {
     "name": "stdout",
     "output_type": "stream",
     "text": [
      "Number of Parameters: 86.68M\n"
     ]
    }
   ],
   "source": [
    "model = GRUBaseGloVe(embed_dim=200, embeddings='6B', hidden_dim=384)\n",
    "model.load_state_dict(torch.load(\"../Models/GRU3200.pth\"))\n",
    "wti_200 = get_word_to_index('.vector_cache/glove.6B.200d.txt')"
   ]
  },
  {
   "cell_type": "code",
   "execution_count": 7,
   "metadata": {},
   "outputs": [
    {
     "name": "stdout",
     "output_type": "stream",
     "text": [
      "              precision    recall  f1-score   support\n",
      "\n",
      "           0       0.00      0.00      0.00        22\n",
      "           1       0.64      0.35      0.45       251\n",
      "           2       0.56      0.52      0.54       163\n",
      "           3       0.00      0.00      0.00        22\n",
      "           4       0.51      0.23      0.32       158\n",
      "           5       0.71      0.67      0.69       693\n",
      "           6       0.64      0.53      0.58       148\n",
      "           7       0.44      0.35      0.39        52\n",
      "           8       0.50      0.11      0.18        46\n",
      "           9       0.31      0.29      0.30        77\n",
      "          10       0.57      0.57      0.57       352\n",
      "          11       0.65      0.66      0.66       502\n",
      "          12       0.57      0.55      0.56       212\n",
      "          13       0.33      0.14      0.20       125\n",
      "          14       0.57      0.56      0.56       304\n",
      "          15       0.55      0.35      0.43       145\n",
      "          16       0.58      0.45      0.50       168\n",
      "          17       0.49      0.43      0.46       223\n",
      "\n",
      "   micro avg       0.60      0.51      0.55      3663\n",
      "   macro avg       0.48      0.37      0.41      3663\n",
      "weighted avg       0.58      0.51      0.53      3663\n",
      " samples avg       0.62      0.55      0.55      3663\n",
      "\n",
      "Accuracy: 12.08%\n"
     ]
    }
   ],
   "source": [
    "evaluate_rnn_performance(xtest, ytest, wti_200, model)"
   ]
  },
  {
   "cell_type": "code",
   "execution_count": 8,
   "metadata": {},
   "outputs": [
    {
     "name": "stdout",
     "output_type": "stream",
     "text": [
      "Number of Parameters: 89.34M\n"
     ]
    }
   ],
   "source": [
    "model = GRUBaseGloVe(embed_dim=200, embeddings='6B', hidden_dim=384, n_layers=4)\n",
    "model.load_state_dict(torch.load(\"../Models/GRU4200.pth\"))\n",
    "wti = get_word_to_index('.vector_cache/glove.6B.200d.txt')"
   ]
  },
  {
   "cell_type": "code",
   "execution_count": 9,
   "metadata": {},
   "outputs": [
    {
     "name": "stdout",
     "output_type": "stream",
     "text": [
      "              precision    recall  f1-score   support\n",
      "\n",
      "           0       0.33      0.05      0.08        22\n",
      "           1       0.53      0.37      0.43       251\n",
      "           2       0.57      0.45      0.50       163\n",
      "           3       0.00      0.00      0.00        22\n",
      "           4       0.46      0.23      0.30       158\n",
      "           5       0.69      0.70      0.69       693\n",
      "           6       0.61      0.56      0.59       148\n",
      "           7       0.46      0.23      0.31        52\n",
      "           8       0.29      0.09      0.13        46\n",
      "           9       0.53      0.26      0.35        77\n",
      "          10       0.55      0.57      0.56       352\n",
      "          11       0.67      0.60      0.63       502\n",
      "          12       0.56      0.51      0.53       212\n",
      "          13       0.32      0.11      0.17       125\n",
      "          14       0.58      0.58      0.58       304\n",
      "          15       0.56      0.39      0.46       145\n",
      "          16       0.61      0.46      0.53       168\n",
      "          17       0.42      0.38      0.40       223\n",
      "\n",
      "   micro avg       0.59      0.50      0.54      3663\n",
      "   macro avg       0.49      0.36      0.40      3663\n",
      "weighted avg       0.57      0.50      0.53      3663\n",
      " samples avg       0.62      0.54      0.54      3663\n",
      "\n",
      "Accuracy: 10.88%\n"
     ]
    }
   ],
   "source": [
    "evaluate_rnn_performance(xtest, ytest, wti_200, model)"
   ]
  }
 ],
 "metadata": {
  "kernelspec": {
   "display_name": ".venv",
   "language": "python",
   "name": "python3"
  },
  "language_info": {
   "codemirror_mode": {
    "name": "ipython",
    "version": 3
   },
   "file_extension": ".py",
   "mimetype": "text/x-python",
   "name": "python",
   "nbconvert_exporter": "python",
   "pygments_lexer": "ipython3",
   "version": "3.10.11"
  }
 },
 "nbformat": 4,
 "nbformat_minor": 2
}
